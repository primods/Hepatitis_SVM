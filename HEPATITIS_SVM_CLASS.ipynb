{
  "nbformat": 4,
  "nbformat_minor": 0,
  "metadata": {
    "colab": {
      "name": "HEPATITIS_SVM_CLASS.ipynb",
      "provenance": [],
      "collapsed_sections": [],
      "authorship_tag": "ABX9TyPhNY2IHY//BwUdZFu2XTFJ"
    },
    "kernelspec": {
      "name": "python3",
      "display_name": "Python 3"
    },
    "language_info": {
      "name": "python"
    }
  },
  "cells": [
    {
      "cell_type": "code",
      "execution_count": 1,
      "metadata": {
        "id": "AOJiGaDZW0kz"
      },
      "outputs": [],
      "source": [
        "#Importing libs\n",
        "import numpy as np\n",
        "import matplotlib.pyplot as plt\n",
        "import pandas as pd\n",
        "import seaborn as sns\n",
        "\n",
        "from sklearn.model_selection import train_test_split\n",
        "from sklearn.svm import SVC\n",
        "\n",
        "from sklearn.decomposition import PCA\n",
        "\n",
        "from sklearn.preprocessing import Normalizer\n",
        "from sklearn.impute import SimpleImputer\n",
        "from sklearn import linear_model\n",
        "from sklearn.metrics import confusion_matrix\n",
        "from sklearn.metrics import ConfusionMatrixDisplay\n",
        "from sklearn.metrics import classification_report\n",
        "\n",
        "import pickle\n",
        "\n",
        "#setting theme for seaborn/matplotlib plots\n",
        "sns.set()\n",
        "sns.set_palette('hls')"
      ]
    },
    {
      "cell_type": "code",
      "source": [
        "#Creating Dataframe from csv data and cleaning\n",
        "\n",
        "hep_data = pd.read_csv(\"HepatitisCdata.csv\").drop(\"Unnamed: 0\", axis=1)\n",
        "y_data = hep_data[\"Category\"]\n",
        "X_data = pd.get_dummies(hep_data.drop(\"Category\", axis=1))\n",
        "\n",
        "hep_data = X_data.join(y_data)"
      ],
      "metadata": {
        "id": "U5PkBD7yYItr"
      },
      "execution_count": 2,
      "outputs": []
    },
    {
      "cell_type": "code",
      "source": [
        "#Classes\n",
        "list(y_data.unique())"
      ],
      "metadata": {
        "colab": {
          "base_uri": "https://localhost:8080/"
        },
        "id": "-O8KXcg4bha8",
        "outputId": "15a07866-9222-4bea-c117-c9da77e9cd8f"
      },
      "execution_count": 3,
      "outputs": [
        {
          "output_type": "execute_result",
          "data": {
            "text/plain": [
              "['0=Blood Donor',\n",
              " '0s=suspect Blood Donor',\n",
              " '1=Hepatitis',\n",
              " '2=Fibrosis',\n",
              " '3=Cirrhosis']"
            ]
          },
          "metadata": {},
          "execution_count": 3
        }
      ]
    },
    {
      "cell_type": "code",
      "source": [
        "#Showing the data balance\n",
        "\n",
        "y_data.value_counts()"
      ],
      "metadata": {
        "colab": {
          "base_uri": "https://localhost:8080/"
        },
        "id": "zYkaTbImcE05",
        "outputId": "1420a763-a533-43b6-b545-83d0576c9906"
      },
      "execution_count": 4,
      "outputs": [
        {
          "output_type": "execute_result",
          "data": {
            "text/plain": [
              "0=Blood Donor             533\n",
              "3=Cirrhosis                30\n",
              "1=Hepatitis                24\n",
              "2=Fibrosis                 21\n",
              "0s=suspect Blood Donor      7\n",
              "Name: Category, dtype: int64"
            ]
          },
          "metadata": {},
          "execution_count": 4
        }
      ]
    },
    {
      "cell_type": "code",
      "source": [
        "#Categorical data to numerical, dropping suspect donors (only 7 entries)\n",
        "hep_data = hep_data[hep_data[\"Category\"] != \"0s=suspect Blood Donor\"].reset_index().drop(\"index\", axis=1)\n",
        "hep_data = hep_data.replace(list(hep_data[\"Category\"].unique()),np.linspace(1,4,4))\n",
        "X_data = hep_data.drop(\"Category\", axis=1)\n",
        "y_data = hep_data[\"Category\"]"
      ],
      "metadata": {
        "id": "AxvhGwrjbv5_"
      },
      "execution_count": 5,
      "outputs": []
    },
    {
      "cell_type": "code",
      "source": [
        "#Splitting sets in train, and test sets\n",
        "X_train, X_test, y_train, y_test = train_test_split(X_data, y_data,\n",
        "                                                    test_size=0.25, random_state=32,\n",
        "                                                    stratify=y_data)"
      ],
      "metadata": {
        "id": "ig0Hl3BZcRd7"
      },
      "execution_count": 6,
      "outputs": []
    },
    {
      "cell_type": "code",
      "source": [
        "#Counting NA values\n",
        "X_train.isna().sum()"
      ],
      "metadata": {
        "colab": {
          "base_uri": "https://localhost:8080/"
        },
        "id": "I8Cmva8Oeoqz",
        "outputId": "a8cab61c-2b65-4000-c877-8ebcc2820794"
      },
      "execution_count": 7,
      "outputs": [
        {
          "output_type": "execute_result",
          "data": {
            "text/plain": [
              "Age       0\n",
              "ALB       1\n",
              "ALP      14\n",
              "ALT       1\n",
              "AST       0\n",
              "BIL       0\n",
              "CHE       0\n",
              "CHOL      8\n",
              "CREA      0\n",
              "GGT       0\n",
              "PROT      1\n",
              "Sex_f     0\n",
              "Sex_m     0\n",
              "dtype: int64"
            ]
          },
          "metadata": {},
          "execution_count": 7
        }
      ]
    },
    {
      "cell_type": "code",
      "source": [
        "#Filling with np.nan for imputation\n",
        "X_train.fillna(np.nan)"
      ],
      "metadata": {
        "colab": {
          "base_uri": "https://localhost:8080/",
          "height": 424
        },
        "id": "s3l5qgaaiOGS",
        "outputId": "67d4e01f-7879-4088-de59-d80115775e92"
      },
      "execution_count": 8,
      "outputs": [
        {
          "output_type": "execute_result",
          "data": {
            "text/plain": [
              "     Age   ALB   ALP   ALT   AST   BIL    CHE  CHOL   CREA   GGT  PROT  Sex_f  \\\n",
              "188   49  41.2  96.0  25.0  27.7  15.6   7.12  5.61   92.0  37.8  68.7      0   \n",
              "271   59  38.4  61.2  15.9  27.2   3.0   6.88  6.89   91.0  14.0  64.5      0   \n",
              "263   58  44.0  56.0  30.6  33.0   4.8  12.37  6.33   74.0  58.7  75.8      0   \n",
              "476   53  43.7  84.3  18.8  18.6   8.5  10.22  6.65   56.0  16.5  76.9      1   \n",
              "493   56  34.7  90.3  22.7  21.6   3.5   8.07  5.45   67.0   9.0  69.4      1   \n",
              "..   ...   ...   ...   ...   ...   ...    ...   ...    ...   ...   ...    ...   \n",
              "127   43  41.2  59.4  34.3  24.2   4.1   9.64  4.93   84.0  20.8  74.5      0   \n",
              "17    33  45.2  88.3  32.4  31.2  10.1   9.78  5.51  102.0  48.5  76.5      0   \n",
              "369   40  43.2  42.4  15.7  23.6   9.7   7.56  6.74   88.0  11.5  73.2      1   \n",
              "441   49  39.3  59.4  18.3  15.0   4.8   8.03  4.58   83.0  12.5  74.3      1   \n",
              "292   63  40.8  74.3  25.0  27.5   5.5   7.74  6.35  107.0  50.4  69.3      0   \n",
              "\n",
              "     Sex_m  \n",
              "188      1  \n",
              "271      1  \n",
              "263      1  \n",
              "476      0  \n",
              "493      0  \n",
              "..     ...  \n",
              "127      1  \n",
              "17       1  \n",
              "369      0  \n",
              "441      0  \n",
              "292      1  \n",
              "\n",
              "[456 rows x 13 columns]"
            ],
            "text/html": [
              "\n",
              "  <div id=\"df-7903462f-f0ee-446c-bfe9-dc44d7fc28a1\">\n",
              "    <div class=\"colab-df-container\">\n",
              "      <div>\n",
              "<style scoped>\n",
              "    .dataframe tbody tr th:only-of-type {\n",
              "        vertical-align: middle;\n",
              "    }\n",
              "\n",
              "    .dataframe tbody tr th {\n",
              "        vertical-align: top;\n",
              "    }\n",
              "\n",
              "    .dataframe thead th {\n",
              "        text-align: right;\n",
              "    }\n",
              "</style>\n",
              "<table border=\"1\" class=\"dataframe\">\n",
              "  <thead>\n",
              "    <tr style=\"text-align: right;\">\n",
              "      <th></th>\n",
              "      <th>Age</th>\n",
              "      <th>ALB</th>\n",
              "      <th>ALP</th>\n",
              "      <th>ALT</th>\n",
              "      <th>AST</th>\n",
              "      <th>BIL</th>\n",
              "      <th>CHE</th>\n",
              "      <th>CHOL</th>\n",
              "      <th>CREA</th>\n",
              "      <th>GGT</th>\n",
              "      <th>PROT</th>\n",
              "      <th>Sex_f</th>\n",
              "      <th>Sex_m</th>\n",
              "    </tr>\n",
              "  </thead>\n",
              "  <tbody>\n",
              "    <tr>\n",
              "      <th>188</th>\n",
              "      <td>49</td>\n",
              "      <td>41.2</td>\n",
              "      <td>96.0</td>\n",
              "      <td>25.0</td>\n",
              "      <td>27.7</td>\n",
              "      <td>15.6</td>\n",
              "      <td>7.12</td>\n",
              "      <td>5.61</td>\n",
              "      <td>92.0</td>\n",
              "      <td>37.8</td>\n",
              "      <td>68.7</td>\n",
              "      <td>0</td>\n",
              "      <td>1</td>\n",
              "    </tr>\n",
              "    <tr>\n",
              "      <th>271</th>\n",
              "      <td>59</td>\n",
              "      <td>38.4</td>\n",
              "      <td>61.2</td>\n",
              "      <td>15.9</td>\n",
              "      <td>27.2</td>\n",
              "      <td>3.0</td>\n",
              "      <td>6.88</td>\n",
              "      <td>6.89</td>\n",
              "      <td>91.0</td>\n",
              "      <td>14.0</td>\n",
              "      <td>64.5</td>\n",
              "      <td>0</td>\n",
              "      <td>1</td>\n",
              "    </tr>\n",
              "    <tr>\n",
              "      <th>263</th>\n",
              "      <td>58</td>\n",
              "      <td>44.0</td>\n",
              "      <td>56.0</td>\n",
              "      <td>30.6</td>\n",
              "      <td>33.0</td>\n",
              "      <td>4.8</td>\n",
              "      <td>12.37</td>\n",
              "      <td>6.33</td>\n",
              "      <td>74.0</td>\n",
              "      <td>58.7</td>\n",
              "      <td>75.8</td>\n",
              "      <td>0</td>\n",
              "      <td>1</td>\n",
              "    </tr>\n",
              "    <tr>\n",
              "      <th>476</th>\n",
              "      <td>53</td>\n",
              "      <td>43.7</td>\n",
              "      <td>84.3</td>\n",
              "      <td>18.8</td>\n",
              "      <td>18.6</td>\n",
              "      <td>8.5</td>\n",
              "      <td>10.22</td>\n",
              "      <td>6.65</td>\n",
              "      <td>56.0</td>\n",
              "      <td>16.5</td>\n",
              "      <td>76.9</td>\n",
              "      <td>1</td>\n",
              "      <td>0</td>\n",
              "    </tr>\n",
              "    <tr>\n",
              "      <th>493</th>\n",
              "      <td>56</td>\n",
              "      <td>34.7</td>\n",
              "      <td>90.3</td>\n",
              "      <td>22.7</td>\n",
              "      <td>21.6</td>\n",
              "      <td>3.5</td>\n",
              "      <td>8.07</td>\n",
              "      <td>5.45</td>\n",
              "      <td>67.0</td>\n",
              "      <td>9.0</td>\n",
              "      <td>69.4</td>\n",
              "      <td>1</td>\n",
              "      <td>0</td>\n",
              "    </tr>\n",
              "    <tr>\n",
              "      <th>...</th>\n",
              "      <td>...</td>\n",
              "      <td>...</td>\n",
              "      <td>...</td>\n",
              "      <td>...</td>\n",
              "      <td>...</td>\n",
              "      <td>...</td>\n",
              "      <td>...</td>\n",
              "      <td>...</td>\n",
              "      <td>...</td>\n",
              "      <td>...</td>\n",
              "      <td>...</td>\n",
              "      <td>...</td>\n",
              "      <td>...</td>\n",
              "    </tr>\n",
              "    <tr>\n",
              "      <th>127</th>\n",
              "      <td>43</td>\n",
              "      <td>41.2</td>\n",
              "      <td>59.4</td>\n",
              "      <td>34.3</td>\n",
              "      <td>24.2</td>\n",
              "      <td>4.1</td>\n",
              "      <td>9.64</td>\n",
              "      <td>4.93</td>\n",
              "      <td>84.0</td>\n",
              "      <td>20.8</td>\n",
              "      <td>74.5</td>\n",
              "      <td>0</td>\n",
              "      <td>1</td>\n",
              "    </tr>\n",
              "    <tr>\n",
              "      <th>17</th>\n",
              "      <td>33</td>\n",
              "      <td>45.2</td>\n",
              "      <td>88.3</td>\n",
              "      <td>32.4</td>\n",
              "      <td>31.2</td>\n",
              "      <td>10.1</td>\n",
              "      <td>9.78</td>\n",
              "      <td>5.51</td>\n",
              "      <td>102.0</td>\n",
              "      <td>48.5</td>\n",
              "      <td>76.5</td>\n",
              "      <td>0</td>\n",
              "      <td>1</td>\n",
              "    </tr>\n",
              "    <tr>\n",
              "      <th>369</th>\n",
              "      <td>40</td>\n",
              "      <td>43.2</td>\n",
              "      <td>42.4</td>\n",
              "      <td>15.7</td>\n",
              "      <td>23.6</td>\n",
              "      <td>9.7</td>\n",
              "      <td>7.56</td>\n",
              "      <td>6.74</td>\n",
              "      <td>88.0</td>\n",
              "      <td>11.5</td>\n",
              "      <td>73.2</td>\n",
              "      <td>1</td>\n",
              "      <td>0</td>\n",
              "    </tr>\n",
              "    <tr>\n",
              "      <th>441</th>\n",
              "      <td>49</td>\n",
              "      <td>39.3</td>\n",
              "      <td>59.4</td>\n",
              "      <td>18.3</td>\n",
              "      <td>15.0</td>\n",
              "      <td>4.8</td>\n",
              "      <td>8.03</td>\n",
              "      <td>4.58</td>\n",
              "      <td>83.0</td>\n",
              "      <td>12.5</td>\n",
              "      <td>74.3</td>\n",
              "      <td>1</td>\n",
              "      <td>0</td>\n",
              "    </tr>\n",
              "    <tr>\n",
              "      <th>292</th>\n",
              "      <td>63</td>\n",
              "      <td>40.8</td>\n",
              "      <td>74.3</td>\n",
              "      <td>25.0</td>\n",
              "      <td>27.5</td>\n",
              "      <td>5.5</td>\n",
              "      <td>7.74</td>\n",
              "      <td>6.35</td>\n",
              "      <td>107.0</td>\n",
              "      <td>50.4</td>\n",
              "      <td>69.3</td>\n",
              "      <td>0</td>\n",
              "      <td>1</td>\n",
              "    </tr>\n",
              "  </tbody>\n",
              "</table>\n",
              "<p>456 rows × 13 columns</p>\n",
              "</div>\n",
              "      <button class=\"colab-df-convert\" onclick=\"convertToInteractive('df-7903462f-f0ee-446c-bfe9-dc44d7fc28a1')\"\n",
              "              title=\"Convert this dataframe to an interactive table.\"\n",
              "              style=\"display:none;\">\n",
              "        \n",
              "  <svg xmlns=\"http://www.w3.org/2000/svg\" height=\"24px\"viewBox=\"0 0 24 24\"\n",
              "       width=\"24px\">\n",
              "    <path d=\"M0 0h24v24H0V0z\" fill=\"none\"/>\n",
              "    <path d=\"M18.56 5.44l.94 2.06.94-2.06 2.06-.94-2.06-.94-.94-2.06-.94 2.06-2.06.94zm-11 1L8.5 8.5l.94-2.06 2.06-.94-2.06-.94L8.5 2.5l-.94 2.06-2.06.94zm10 10l.94 2.06.94-2.06 2.06-.94-2.06-.94-.94-2.06-.94 2.06-2.06.94z\"/><path d=\"M17.41 7.96l-1.37-1.37c-.4-.4-.92-.59-1.43-.59-.52 0-1.04.2-1.43.59L10.3 9.45l-7.72 7.72c-.78.78-.78 2.05 0 2.83L4 21.41c.39.39.9.59 1.41.59.51 0 1.02-.2 1.41-.59l7.78-7.78 2.81-2.81c.8-.78.8-2.07 0-2.86zM5.41 20L4 18.59l7.72-7.72 1.47 1.35L5.41 20z\"/>\n",
              "  </svg>\n",
              "      </button>\n",
              "      \n",
              "  <style>\n",
              "    .colab-df-container {\n",
              "      display:flex;\n",
              "      flex-wrap:wrap;\n",
              "      gap: 12px;\n",
              "    }\n",
              "\n",
              "    .colab-df-convert {\n",
              "      background-color: #E8F0FE;\n",
              "      border: none;\n",
              "      border-radius: 50%;\n",
              "      cursor: pointer;\n",
              "      display: none;\n",
              "      fill: #1967D2;\n",
              "      height: 32px;\n",
              "      padding: 0 0 0 0;\n",
              "      width: 32px;\n",
              "    }\n",
              "\n",
              "    .colab-df-convert:hover {\n",
              "      background-color: #E2EBFA;\n",
              "      box-shadow: 0px 1px 2px rgba(60, 64, 67, 0.3), 0px 1px 3px 1px rgba(60, 64, 67, 0.15);\n",
              "      fill: #174EA6;\n",
              "    }\n",
              "\n",
              "    [theme=dark] .colab-df-convert {\n",
              "      background-color: #3B4455;\n",
              "      fill: #D2E3FC;\n",
              "    }\n",
              "\n",
              "    [theme=dark] .colab-df-convert:hover {\n",
              "      background-color: #434B5C;\n",
              "      box-shadow: 0px 1px 3px 1px rgba(0, 0, 0, 0.15);\n",
              "      filter: drop-shadow(0px 1px 2px rgba(0, 0, 0, 0.3));\n",
              "      fill: #FFFFFF;\n",
              "    }\n",
              "  </style>\n",
              "\n",
              "      <script>\n",
              "        const buttonEl =\n",
              "          document.querySelector('#df-7903462f-f0ee-446c-bfe9-dc44d7fc28a1 button.colab-df-convert');\n",
              "        buttonEl.style.display =\n",
              "          google.colab.kernel.accessAllowed ? 'block' : 'none';\n",
              "\n",
              "        async function convertToInteractive(key) {\n",
              "          const element = document.querySelector('#df-7903462f-f0ee-446c-bfe9-dc44d7fc28a1');\n",
              "          const dataTable =\n",
              "            await google.colab.kernel.invokeFunction('convertToInteractive',\n",
              "                                                     [key], {});\n",
              "          if (!dataTable) return;\n",
              "\n",
              "          const docLinkHtml = 'Like what you see? Visit the ' +\n",
              "            '<a target=\"_blank\" href=https://colab.research.google.com/notebooks/data_table.ipynb>data table notebook</a>'\n",
              "            + ' to learn more about interactive tables.';\n",
              "          element.innerHTML = '';\n",
              "          dataTable['output_type'] = 'display_data';\n",
              "          await google.colab.output.renderOutput(dataTable, element);\n",
              "          const docLink = document.createElement('div');\n",
              "          docLink.innerHTML = docLinkHtml;\n",
              "          element.appendChild(docLink);\n",
              "        }\n",
              "      </script>\n",
              "    </div>\n",
              "  </div>\n",
              "  "
            ]
          },
          "metadata": {},
          "execution_count": 8
        }
      ]
    },
    {
      "cell_type": "code",
      "source": [
        "#Create data Imputer using Mean\n",
        "imp = SimpleImputer(missing_values=np.nan, strategy=\"mean\")"
      ],
      "metadata": {
        "id": "6rczy8TphAry"
      },
      "execution_count": 9,
      "outputs": []
    },
    {
      "cell_type": "code",
      "source": [
        "#Data Imputation\n",
        "X_train = pd.DataFrame(imp.fit_transform(X_train), columns=list(X_train.columns))\n",
        "X_test = pd.DataFrame(imp.transform(X_test),columns=list(X_train.columns))"
      ],
      "metadata": {
        "id": "V0DjhpjUibqe"
      },
      "execution_count": 10,
      "outputs": []
    },
    {
      "cell_type": "code",
      "source": [
        "#Create lasso model for variable selection with cross_validation parameter = 5 and multiple alphas using LassoCV\n",
        "lasso_model = linear_model.LassoCV(cv=5,random_state=30)\n",
        "lasso_model.fit(X_train,y_train)"
      ],
      "metadata": {
        "id": "g2t2FxxOYN_c",
        "colab": {
          "base_uri": "https://localhost:8080/"
        },
        "outputId": "a070c9cb-39ae-470f-f1fc-337b791ef9fd"
      },
      "execution_count": 11,
      "outputs": [
        {
          "output_type": "execute_result",
          "data": {
            "text/plain": [
              "LassoCV(cv=5, random_state=30)"
            ]
          },
          "metadata": {},
          "execution_count": 11
        }
      ]
    },
    {
      "cell_type": "code",
      "source": [
        "#Return score (Determination Coefficient). Best=1, Worse=0.\n",
        "lasso_model.score(X_train, y_train)"
      ],
      "metadata": {
        "colab": {
          "base_uri": "https://localhost:8080/"
        },
        "id": "MRVIv4yJmFYQ",
        "outputId": "c6b341f7-549d-488f-a454-cbd772ce1c9b"
      },
      "execution_count": 12,
      "outputs": [
        {
          "output_type": "execute_result",
          "data": {
            "text/plain": [
              "0.6217263729220899"
            ]
          },
          "metadata": {},
          "execution_count": 12
        }
      ]
    },
    {
      "cell_type": "code",
      "source": [
        "#Show coefficient weigths\n",
        "lasso_model.coef_"
      ],
      "metadata": {
        "colab": {
          "base_uri": "https://localhost:8080/"
        },
        "id": "w37Ls0_-mayH",
        "outputId": "bb67f3ba-85df-4d04-e798-64d2c513fd1d"
      },
      "execution_count": 13,
      "outputs": [
        {
          "output_type": "execute_result",
          "data": {
            "text/plain": [
              "array([ 0.00480137, -0.01797585, -0.00275716,  0.00128478,  0.00899004,\n",
              "        0.0083815 , -0.03407224, -0.04703574,  0.00253478,  0.00267948,\n",
              "        0.01575848,  0.        , -0.        ])"
            ]
          },
          "metadata": {},
          "execution_count": 13
        }
      ]
    },
    {
      "cell_type": "code",
      "source": [
        "#Creatting Dataframe for coefficient weigths\n",
        "Coeff_data = pd.DataFrame(lasso_model.coef_).T\n",
        "Coeff_data.columns = list(X_train.columns)\n",
        "\n",
        "#Select most important weigths\n",
        "columns_neg = Coeff_data.T.sort_values(0, ascending=True).index[0:4]\n",
        "columns_pos = Coeff_data.T.sort_values(0, ascending=False).index[0:4]\n",
        "columns_features = list(columns_neg) + list(columns_pos)\n",
        "columns_features"
      ],
      "metadata": {
        "colab": {
          "base_uri": "https://localhost:8080/"
        },
        "id": "K3_8h9dcmsYu",
        "outputId": "cdf9131f-e3a1-4fa5-903c-321e794152d6"
      },
      "execution_count": 14,
      "outputs": [
        {
          "output_type": "execute_result",
          "data": {
            "text/plain": [
              "['CHOL', 'CHE', 'ALB', 'ALP', 'PROT', 'AST', 'BIL', 'Age']"
            ]
          },
          "metadata": {},
          "execution_count": 14
        }
      ]
    },
    {
      "cell_type": "code",
      "source": [
        "#Filter data to selected columns\n",
        "X_train = X_train[columns_features]\n",
        "X_test = X_test[columns_features]"
      ],
      "metadata": {
        "id": "RDeN67dRoqEi"
      },
      "execution_count": 15,
      "outputs": []
    },
    {
      "cell_type": "code",
      "source": [
        "#Normalize the data\n",
        "X_train = pd.DataFrame(Normalizer().fit_transform(X_train),\n",
        "                           columns=list(X_train.columns))\n",
        "X_test = pd.DataFrame(Normalizer().transform(X_test),\n",
        "                     columns=list(X_train.columns))"
      ],
      "metadata": {
        "colab": {
          "base_uri": "https://localhost:8080/"
        },
        "id": "Al5PWkDBpw1E",
        "outputId": "578e71a4-2b2e-439f-9f9c-c9b22b44b12d"
      },
      "execution_count": 16,
      "outputs": [
        {
          "output_type": "stream",
          "name": "stderr",
          "text": [
            "/usr/local/lib/python3.7/dist-packages/sklearn/base.py:444: UserWarning: X has feature names, but Normalizer was fitted without feature names\n",
            "  f\"X has feature names, but {self.__class__.__name__} was fitted without\"\n"
          ]
        }
      ]
    },
    {
      "cell_type": "code",
      "source": [
        "#SAVING NORMALIZER PARAMETERS\n",
        "norm = Normalizer()\n",
        "pickle.dump(Normalizer, open(\"normalizer.sav\", 'wb'))"
      ],
      "metadata": {
        "id": "mg0g0w7mptkI"
      },
      "execution_count": 17,
      "outputs": []
    },
    {
      "cell_type": "code",
      "source": [
        "#Dimensionality reduction with PCA\n",
        "pca = PCA(n_components=2).fit(X_train)\n",
        "X_train = pd.DataFrame(pca.transform(X_train))\n",
        "X_test = pd.DataFrame(pca.transform(X_test))"
      ],
      "metadata": {
        "id": "j7FUpkjvqIzN"
      },
      "execution_count": 18,
      "outputs": []
    },
    {
      "cell_type": "code",
      "source": [
        "#SAVING PCA PARAMETERS\n",
        "pickle.dump(pca, open(\"pca_param.sav\", 'wb'))"
      ],
      "metadata": {
        "id": "Q4jAgeQigsIX"
      },
      "execution_count": 19,
      "outputs": []
    },
    {
      "cell_type": "code",
      "source": [
        "#Replace Classes to make a binary classification problem: all grade of hepatic disease vs healthy\n",
        "\n",
        "y_train = y_train.replace([4.0,2.0,3.0],2)\n",
        "y_test = y_test.replace([4.0,2.0,3.0],2)"
      ],
      "metadata": {
        "id": "2ntKW7gptRFV"
      },
      "execution_count": 20,
      "outputs": []
    },
    {
      "cell_type": "code",
      "source": [
        "#Data looks linearly separable in two dimensions\n",
        "sns.scatterplot(1,0, data=X_train, hue=list(y_train),\n",
        "                palette='rainbow', alpha=0.3)"
      ],
      "metadata": {
        "colab": {
          "base_uri": "https://localhost:8080/",
          "height": 358
        },
        "id": "ti5RPMHbubty",
        "outputId": "fe5313ac-470d-467b-8c96-a536b55a0ea1"
      },
      "execution_count": 21,
      "outputs": [
        {
          "output_type": "stream",
          "name": "stderr",
          "text": [
            "/usr/local/lib/python3.7/dist-packages/seaborn/_decorators.py:43: FutureWarning: Pass the following variables as keyword args: x, y. From version 0.12, the only valid positional argument will be `data`, and passing other arguments without an explicit keyword will result in an error or misinterpretation.\n",
            "  FutureWarning\n"
          ]
        },
        {
          "output_type": "execute_result",
          "data": {
            "text/plain": [
              "<matplotlib.axes._subplots.AxesSubplot at 0x7f75446cc9d0>"
            ]
          },
          "metadata": {},
          "execution_count": 21
        },
        {
          "output_type": "display_data",
          "data": {
            "text/plain": [
              "<Figure size 432x288 with 1 Axes>"
            ],
            "image/png": "[encoded data removed]"
          },
          "metadata": {
            "needs_background": "light"
          }
        }
      ]
    },
    {
      "cell_type": "code",
      "source": [
        "#Create Support Vector Machine Model, Fit and Accuracy Train Score, with defaults parameters,\n",
        "#and accuracy score for the Train set\n",
        "svm = SVC(gamma='auto')\n",
        "svm.fit(X_train, y_train)\n",
        "svm.score(X_train, y_train)"
      ],
      "metadata": {
        "id": "WUWUy05Sqahw",
        "colab": {
          "base_uri": "https://localhost:8080/"
        },
        "outputId": "be6da6dd-8304-4b7d-ab85-cacf44879b34"
      },
      "execution_count": 22,
      "outputs": [
        {
          "output_type": "execute_result",
          "data": {
            "text/plain": [
              "0.9473684210526315"
            ]
          },
          "metadata": {},
          "execution_count": 22
        }
      ]
    },
    {
      "cell_type": "code",
      "source": [
        "#Predict for the Train set to see a Confusion Matrix\n",
        "\n",
        "y_train_pred = svm.predict(X_train) "
      ],
      "metadata": {
        "id": "sf_o-7pBrHvx"
      },
      "execution_count": 23,
      "outputs": []
    },
    {
      "cell_type": "code",
      "source": [
        "#Confusion Matrix\n",
        "cm_hep = confusion_matrix(y_train, y_train_pred)\n",
        "ConfusionMatrixDisplay(cm_hep).plot()\n",
        "plt.grid(b=None)"
      ],
      "metadata": {
        "colab": {
          "base_uri": "https://localhost:8080/",
          "height": 285
        },
        "id": "VetcPt8BuFaa",
        "outputId": "64c19e8d-479c-48e3-be93-79d9c002885d"
      },
      "execution_count": 24,
      "outputs": [
        {
          "output_type": "display_data",
          "data": {
            "text/plain": [
              "<Figure size 432x288 with 2 Axes>"
            ],
            "image/png": "[encoded data removed]"
          },
          "metadata": {
            "needs_background": "light"
          }
        }
      ]
    },
    {
      "cell_type": "code",
      "source": [
        "#Classification Report for train data\n",
        "print(classification_report(y_train, y_train_pred, target_names=[\"Healthy\",\"Disease\"]))\n",
        "#The model indentifies with more accuracy Healthy subjects than sick ones (based on recall and f1-score)"
      ],
      "metadata": {
        "colab": {
          "base_uri": "https://localhost:8080/"
        },
        "id": "33bBTIBcvvHA",
        "outputId": "45a93f23-f9d7-4760-cb1c-682841cb0e6a"
      },
      "execution_count": 25,
      "outputs": [
        {
          "output_type": "stream",
          "name": "stdout",
          "text": [
            "              precision    recall  f1-score   support\n",
            "\n",
            "     Healthy       0.95      1.00      0.97       400\n",
            "     Disease       0.97      0.59      0.73        56\n",
            "\n",
            "    accuracy                           0.95       456\n",
            "   macro avg       0.96      0.79      0.85       456\n",
            "weighted avg       0.95      0.95      0.94       456\n",
            "\n"
          ]
        }
      ]
    },
    {
      "cell_type": "code",
      "source": [
        "#The same for the Test Set\n",
        "y_test_pred = svm.predict(X_test)\n",
        "\n",
        "cm_hep = confusion_matrix(y_test, y_test_pred)\n",
        "ConfusionMatrixDisplay(cm_hep).plot()\n",
        "plt.grid(b=None)"
      ],
      "metadata": {
        "id": "NvELD29GwGc1",
        "colab": {
          "base_uri": "https://localhost:8080/",
          "height": 285
        },
        "outputId": "459f5a37-7ff3-4846-cee1-cb789bbc7758"
      },
      "execution_count": 26,
      "outputs": [
        {
          "output_type": "display_data",
          "data": {
            "text/plain": [
              "<Figure size 432x288 with 2 Axes>"
            ],
            "image/png": "[encoded data removed]"
          },
          "metadata": {
            "needs_background": "light"
          }
        }
      ]
    },
    {
      "cell_type": "code",
      "source": [
        "#Metrics for Specificity vs Sensitivity metrics\n",
        "tn, fp, fn, tp = confusion_matrix(y_test, y_test_pred).ravel()"
      ],
      "metadata": {
        "id": "CzrEzILiRiB7"
      },
      "execution_count": 27,
      "outputs": []
    },
    {
      "cell_type": "code",
      "source": [
        "#Report for test data. Not overfitting, almost the same scores\n",
        "print(classification_report(y_test, y_test_pred, target_names=[\"Healthy\",\"Disease\"]))"
      ],
      "metadata": {
        "colab": {
          "base_uri": "https://localhost:8080/"
        },
        "id": "_XAGCUYswUbq",
        "outputId": "f821714b-3dac-431b-f2c8-5c30779dcf13"
      },
      "execution_count": 28,
      "outputs": [
        {
          "output_type": "stream",
          "name": "stdout",
          "text": [
            "              precision    recall  f1-score   support\n",
            "\n",
            "     Healthy       0.93      0.99      0.96       133\n",
            "     Disease       0.90      0.47      0.62        19\n",
            "\n",
            "    accuracy                           0.93       152\n",
            "   macro avg       0.91      0.73      0.79       152\n",
            "weighted avg       0.93      0.93      0.92       152\n",
            "\n"
          ]
        }
      ]
    },
    {
      "cell_type": "code",
      "source": [
        "#Plot the decision region\n",
        "from mlxtend.plotting import plot_decision_regions\n",
        "\n",
        "xdataplot = np.array(X_train)\n",
        "ydataplot = np.reshape(np.array(-y_train.astype(\"int64\")), newshape=(456,),)\n",
        "\n",
        "\n",
        "\n",
        "ax = plot_decision_regions(xdataplot, ydataplot, clf=svm, legend=1,colors=\"red,cyan\")\n",
        "handles, labels = ax.get_legend_handles_labels()\n",
        "ay = plt.scatter(0.0,1.0, c=\"blue\", marker=\"x\", s=50, label=\"your point\")\n",
        "\n",
        "\n",
        "ax.legend(handles, \n",
        "          ['Disease', 'Healthy'], \n",
        "           framealpha=0.3, scatterpoints=1)\n",
        "\n",
        "plt.xlim(-0.75, 1)\n",
        "plt.ylim(-1, 1.5)\n",
        "plt.show()"
      ],
      "metadata": {
        "colab": {
          "base_uri": "https://localhost:8080/",
          "height": 328
        },
        "id": "RTJUT4AGwV66",
        "outputId": "7451b80b-017a-4671-ebf0-4c01fc8130e9"
      },
      "execution_count": 29,
      "outputs": [
        {
          "output_type": "stream",
          "name": "stderr",
          "text": [
            "/usr/local/lib/python3.7/dist-packages/mlxtend/plotting/decision_regions.py:244: MatplotlibDeprecationWarning: Passing unsupported keyword arguments to axis() will raise a TypeError in 3.3.\n",
            "  ax.axis(xmin=xx.min(), xmax=xx.max(), y_min=yy.min(), y_max=yy.max())\n"
          ]
        },
        {
          "output_type": "display_data",
          "data": {
            "text/plain": [
              "<Figure size 432x288 with 1 Axes>"
            ],
            "image/png": "[encoded data removed]"
          },
          "metadata": {
            "needs_background": "light"
          }
        }
      ]
    },
    {
      "cell_type": "code",
      "source": [
        "#Saving points for decision region\n",
        "xpoints = xdataplot , ydataplot\n",
        "pickle.dump(xpoints, open(\"xpoints.sav\", 'wb'))"
      ],
      "metadata": {
        "id": "RfKu97c_i0z4"
      },
      "execution_count": 30,
      "outputs": []
    },
    {
      "cell_type": "code",
      "source": [
        "#Save the model\n",
        "\n",
        "pickle.dump(svm, open(\"svm_hepatitis.sav\", 'wb'))"
      ],
      "metadata": {
        "id": "PgVinc1EeWWx"
      },
      "execution_count": 31,
      "outputs": []
    }
  ]
}